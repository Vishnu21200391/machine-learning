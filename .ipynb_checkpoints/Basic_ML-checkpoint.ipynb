{
 "cells": [
  {
   "cell_type": "code",
   "execution_count": 4,
   "id": "f4046887-bc80-4944-99ce-953f45405dfe",
   "metadata": {},
   "outputs": [],
   "source": [
    "import numpy as np\n",
    "import pandas as pd\n",
    "df  = pd.read_csv(\"q1_dataset.csv\")\n"
   ]
  },
  {
   "cell_type": "code",
   "execution_count": 5,
   "id": "7520b634-be90-4c76-ac00-5aa050f64b2e",
   "metadata": {},
   "outputs": [
    {
     "data": {
      "text/html": [
       "<div>\n",
       "<style scoped>\n",
       "    .dataframe tbody tr th:only-of-type {\n",
       "        vertical-align: middle;\n",
       "    }\n",
       "\n",
       "    .dataframe tbody tr th {\n",
       "        vertical-align: top;\n",
       "    }\n",
       "\n",
       "    .dataframe thead th {\n",
       "        text-align: right;\n",
       "    }\n",
       "</style>\n",
       "<table border=\"1\" class=\"dataframe\">\n",
       "  <thead>\n",
       "    <tr style=\"text-align: right;\">\n",
       "      <th></th>\n",
       "      <th>Age</th>\n",
       "    </tr>\n",
       "  </thead>\n",
       "  <tbody>\n",
       "    <tr>\n",
       "      <th>count</th>\n",
       "      <td>500.0000</td>\n",
       "    </tr>\n",
       "    <tr>\n",
       "      <th>mean</th>\n",
       "      <td>48.5100</td>\n",
       "    </tr>\n",
       "    <tr>\n",
       "      <th>std</th>\n",
       "      <td>18.6943</td>\n",
       "    </tr>\n",
       "    <tr>\n",
       "      <th>min</th>\n",
       "      <td>18.0000</td>\n",
       "    </tr>\n",
       "    <tr>\n",
       "      <th>25%</th>\n",
       "      <td>31.0000</td>\n",
       "    </tr>\n",
       "    <tr>\n",
       "      <th>50%</th>\n",
       "      <td>49.0000</td>\n",
       "    </tr>\n",
       "    <tr>\n",
       "      <th>75%</th>\n",
       "      <td>65.0000</td>\n",
       "    </tr>\n",
       "    <tr>\n",
       "      <th>max</th>\n",
       "      <td>79.0000</td>\n",
       "    </tr>\n",
       "  </tbody>\n",
       "</table>\n",
       "</div>"
      ],
      "text/plain": [
       "            Age\n",
       "count  500.0000\n",
       "mean    48.5100\n",
       "std     18.6943\n",
       "min     18.0000\n",
       "25%     31.0000\n",
       "50%     49.0000\n",
       "75%     65.0000\n",
       "max     79.0000"
      ]
     },
     "execution_count": 5,
     "metadata": {},
     "output_type": "execute_result"
    }
   ],
   "source": [
    "df.describe()"
   ]
  },
  {
   "cell_type": "code",
   "execution_count": 7,
   "id": "9475cd33-6e2f-4721-9bf5-e7e9ba29caa2",
   "metadata": {},
   "outputs": [
    {
     "name": "stdout",
     "output_type": "stream",
     "text": [
      "<class 'pandas.core.frame.DataFrame'>\n",
      "RangeIndex: 500 entries, 0 to 499\n",
      "Data columns (total 4 columns):\n",
      " #   Column      Non-Null Count  Dtype \n",
      "---  ------      --------------  ----- \n",
      " 0   Age         500 non-null    int64 \n",
      " 1   Occupation  500 non-null    object\n",
      " 2   Location    500 non-null    object\n",
      " 3   Gender      500 non-null    object\n",
      "dtypes: int64(1), object(3)\n",
      "memory usage: 15.8+ KB\n"
     ]
    }
   ],
   "source": [
    "df.info()"
   ]
  },
  {
   "cell_type": "code",
   "execution_count": 9,
   "id": "45f78963-2393-4f25-90b6-27ad628478bc",
   "metadata": {},
   "outputs": [
    {
     "name": "stdout",
     "output_type": "stream",
     "text": [
      "There are 500 observation in the dataset\n"
     ]
    }
   ],
   "source": [
    "# Observation\n",
    "num_observation = len(df)\n",
    "print(f\"There are {num_observation} observation in the dataset\")"
   ]
  },
  {
   "cell_type": "code",
   "execution_count": 10,
   "id": "7ae237fd-0f36-4e9f-a89b-e48184fe3fc9",
   "metadata": {},
   "outputs": [
    {
     "name": "stdout",
     "output_type": "stream",
     "text": [
      "There are 4 features in the dataset\n"
     ]
    }
   ],
   "source": [
    "#Feature(row)\n",
    "num_features = len(df.columns) \n",
    "print(f\"There are {num_features} features in the dataset\")n"
   ]
  },
  {
   "cell_type": "code",
   "execution_count": 14,
   "id": "f6adf2b0-65a9-4501-841b-621bd962f081",
   "metadata": {},
   "outputs": [
    {
     "data": {
      "text/plain": [
       "Artist      145\n",
       "Doctor      122\n",
       "Teacher     121\n",
       "Engineer    112\n",
       "Name: Occupation, dtype: int64"
      ]
     },
     "execution_count": 14,
     "metadata": {},
     "output_type": "execute_result"
    }
   ],
   "source": [
    "df[\"Occupation\"].value_counts()"
   ]
  },
  {
   "cell_type": "code",
   "execution_count": 15,
   "id": "c7f2ba40-25cb-4c4b-bf05-3fc238e8c83d",
   "metadata": {},
   "outputs": [
    {
     "data": {
      "text/plain": [
       "4"
      ]
     },
     "execution_count": 15,
     "metadata": {},
     "output_type": "execute_result"
    }
   ],
   "source": [
    "df[\"Occupation\"].nunique()"
   ]
  },
  {
   "cell_type": "code",
   "execution_count": 16,
   "id": "6486a37d-2b0e-494e-ae5a-ce472145532c",
   "metadata": {},
   "outputs": [
    {
     "name": "stdout",
     "output_type": "stream",
     "text": [
      "The most common occupation is:Artist\n"
     ]
    }
   ],
   "source": [
    "most_common_occ = df[\"Occupation\"].mode()[0]\n",
    "print(f\"The most common occupation is:{most_common_occ}\")"
   ]
  },
  {
   "cell_type": "code",
   "execution_count": 18,
   "id": "2e1703b8-f8d6-49a2-ba17-4056c1dc9791",
   "metadata": {},
   "outputs": [
    {
     "name": "stdout",
     "output_type": "stream",
     "text": [
      "The average age of all people in the dataset is :48.51\n"
     ]
    }
   ],
   "source": [
    "average_age = df[\"Age\"].mean()\n",
    "print(f\"The average age of all people in the dataset is :{average_age}\")"
   ]
  },
  {
   "cell_type": "code",
   "execution_count": 22,
   "id": "af20a958-f8dd-41aa-ac10-dbdf051ff2f2",
   "metadata": {},
   "outputs": [
    {
     "name": "stdout",
     "output_type": "stream",
     "text": [
      "Average age of people in each occupation group\n",
      "Occupation\n",
      "Artist      49.475862\n",
      "Doctor      48.254098\n",
      "Engineer    49.142857\n",
      "Teacher     47.024793\n",
      "Name: Age, dtype: float64\n"
     ]
    }
   ],
   "source": [
    "average_age_grup = df.groupby(\"Occupation\")['Age'].mean()\n",
    "print('Average age of people in each occupation group')\n",
    "print(average_age_grup)"
   ]
  },
  {
   "cell_type": "code",
   "execution_count": 31,
   "id": "28530333-4a2f-4806-9914-e122ba8f1a38",
   "metadata": {},
   "outputs": [
    {
     "name": "stdout",
     "output_type": "stream",
     "text": [
      "18\n",
      "The Occupation of the youngest person is:Artist\n"
     ]
    }
   ],
   "source": [
    "youngest_person_age = df[\"Age\"].min()\n",
    "print(youngest_person_age)\n",
    "youngest_person_occ = df[df[\"Age\"]==youngest_person_age][\"Occupation\"].iloc[0]\n",
    "print(f\"The Occupation of the youngest person is:{youngest_person_occ}\")"
   ]
  },
  {
   "cell_type": "code",
   "execution_count": 29,
   "id": "b46e4a43-aa57-4861-87d4-006190b7404f",
   "metadata": {},
   "outputs": [
    {
     "data": {
      "text/plain": [
       "'Engineer'"
      ]
     },
     "execution_count": 29,
     "metadata": {},
     "output_type": "execute_result"
    }
   ],
   "source": [
    "df['Occupation'].iloc[5]"
   ]
  }
 ],
 "metadata": {
  "kernelspec": {
   "display_name": "Python 3 (ipykernel)",
   "language": "python",
   "name": "python3"
  },
  "language_info": {
   "codemirror_mode": {
    "name": "ipython",
    "version": 3
   },
   "file_extension": ".py",
   "mimetype": "text/x-python",
   "name": "python",
   "nbconvert_exporter": "python",
   "pygments_lexer": "ipython3",
   "version": "3.11.0"
  }
 },
 "nbformat": 4,
 "nbformat_minor": 5
}

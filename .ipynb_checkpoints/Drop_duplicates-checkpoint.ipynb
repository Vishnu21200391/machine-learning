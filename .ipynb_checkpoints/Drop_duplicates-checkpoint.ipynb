{
 "cells": [
  {
   "cell_type": "code",
   "execution_count": 2,
   "id": "5d153b0c-2166-463c-beb9-a522aa9bb91d",
   "metadata": {},
   "outputs": [],
   "source": [
    "import pandas as pd"
   ]
  },
  {
   "cell_type": "code",
   "execution_count": 3,
   "id": "41f6ce14-2c5c-4677-ba42-3839ffc62473",
   "metadata": {},
   "outputs": [],
   "source": [
    "df = pd.DataFrame({\n",
    "    'ID': [1, 2, 2, 3, 4, 4, 4],\n",
    "    'Name': ['A', 'B', 'B', 'C', 'D', 'D', 'D'],\n",
    "    'Score': [90, 85, 88, 92, 70, 75, 80]\n",
    "})"
   ]
  },
  {
   "cell_type": "code",
   "execution_count": 5,
   "id": "91e50bb7-4aca-46ce-8b71-7b9d2fde1fe2",
   "metadata": {},
   "outputs": [],
   "source": [
    "df_first = df.drop_duplicates(subset=['ID', 'Name'], keep='first')\n",
    "df_last = df.drop_duplicates(subset=['ID', 'Name'], keep='last', inplace=False)\n",
    "df_false = df.drop_duplicates(subset=['ID', 'Name'], keep=False)"
   ]
  },
  {
   "cell_type": "code",
   "execution_count": null,
   "id": "e15ca40f-56ad-4763-80a2-4daa365dace6",
   "metadata": {},
   "outputs": [],
   "source": [
    "print(\"Original DataFrame:\\n\", df)\n",
    "print(\"\\nkeep='first':\\n\", df_first)\n",
    "print(\"\\nkeep='last':\\n\", df_last)\n",
    "print(\"\\nkeep=False:\\n\", df_false)"
   ]
  },
  {
   "cell_type": "code",
   "execution_count": null,
   "id": "78a6d03b-3a41-429c-8665-e146ce2033ae",
   "metadata": {},
   "outputs": [],
   "source": []
  }
 ],
 "metadata": {
  "kernelspec": {
   "display_name": "Python 3 (ipykernel)",
   "language": "python",
   "name": "python3"
  },
  "language_info": {
   "codemirror_mode": {
    "name": "ipython",
    "version": 3
   },
   "file_extension": ".py",
   "mimetype": "text/x-python",
   "name": "python",
   "nbconvert_exporter": "python",
   "pygments_lexer": "ipython3",
   "version": "3.12.2"
  }
 },
 "nbformat": 4,
 "nbformat_minor": 5
}

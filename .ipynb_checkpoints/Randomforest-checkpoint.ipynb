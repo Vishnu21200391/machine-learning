{
 "cells": [
  {
   "cell_type": "code",
   "execution_count": 7,
   "id": "8ce34cb4-539a-4d94-a915-c605e4128abe",
   "metadata": {},
   "outputs": [
    {
     "name": "stdout",
     "output_type": "stream",
     "text": [
      "Accuracy: 1.0\n",
      "/nConfusion Matrix:\n",
      " [[10  0  0]\n",
      " [ 0  9  0]\n",
      " [ 0  0 11]]\n"
     ]
    }
   ],
   "source": [
    "import pandas as pd \n",
    "from sklearn.ensemble import RandomForestClassifier\n",
    "from sklearn.model_selection import train_test_split\n",
    "from sklearn.metrics import accuracy_score, confusion_matrix\n",
    "df = pd.read_csv(\"C:/Users/balak/OneDrive/Desktop/GitHub/machine-learning/iris_data.csv\")\n",
    "df\n",
    "X=df[['sepal_length','sepal_width','petal_length','petal_width']]\n",
    "Y = df['species']\n",
    "X_train,X_test,Y_train,Y_test = train_test_split(X,Y, test_size=0.2,random_state=42)\n",
    "rf = RandomForestClassifier(n_estimators=100,random_state=42)\n",
    "rf.fit(X_train, Y_train)\n",
    "Y_pred = rf.predict(X_test)\n",
    "print(\"Accuracy:\",accuracy_score(Y_test,Y_pred))\n",
    "print(\"/nConfusion Matrix:\\n\", confusion_matrix(Y_test,Y_pred))"
   ]
  },
  {
   "cell_type": "code",
   "execution_count": 12,
   "id": "211dc4fc-f558-4f3b-991d-0a265b84c159",
   "metadata": {},
   "outputs": [],
   "source": [
    "import numpy as np\n",
    "import pandas as pd\n",
    "import matplotlib.pyplot as plt\n",
    "import seaborn as sns\n",
    "from sklearn.ensemble import RandomForestClassifier\n",
    "from sklearn.tree import plot_tree\n",
    "from sklearn.model_selection import train_test_split\n",
    "Step 1: Create the Dataset\n",
    "data = { \"Animal\": [\"Dog\", \"Cat\", \"Lizard\", \"Elephant\", \"Snake\"],\n",
    "        \"Weight (kg)\": [10, 5, 1, 3000, 2],\n",
    "        \"Heiơht (cm)\": [150, 35, 15, 250, 101],\n",
    "        \"Class\":[1,1,0,1,0]}\n",
    "df = pd.DataFrame(data)\n",
    "X = df[[\"Weight (kg)\", \"Height (cm)\"]]\n",
    "Y = df[\"Class\"]\n",
    "\n",
    "rf = RandomForestClassifier(n_estimators=3,random_state = 42)\n",
    "rf.fit(X,Y)"
   ]
  },
  {
   "cell_type": "code",
   "execution_count": null,
   "id": "0dd53a2e-3d30-4844-a3b2-fe5fcde721ae",
   "metadata": {},
   "outputs": [],
   "source": []
  }
 ],
 "metadata": {
  "kernelspec": {
   "display_name": "Python 3 (ipykernel)",
   "language": "python",
   "name": "python3"
  },
  "language_info": {
   "codemirror_mode": {
    "name": "ipython",
    "version": 3
   },
   "file_extension": ".py",
   "mimetype": "text/x-python",
   "name": "python",
   "nbconvert_exporter": "python",
   "pygments_lexer": "ipython3",
   "version": "3.13.2"
  }
 },
 "nbformat": 4,
 "nbformat_minor": 5
}

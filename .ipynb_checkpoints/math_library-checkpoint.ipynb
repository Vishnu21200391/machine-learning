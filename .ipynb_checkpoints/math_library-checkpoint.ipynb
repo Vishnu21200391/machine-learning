{
 "cells": [
  {
   "cell_type": "code",
   "execution_count": 14,
   "id": "048bbc4f-267f-40d4-8267-7ddc5a457f4d",
   "metadata": {},
   "outputs": [],
   "source": [
    "import math as m\n",
    "import numpy as np"
   ]
  },
  {
   "cell_type": "code",
   "execution_count": 15,
   "id": "976c66cd-7f20-4b5a-82f2-1279f6cd3aef",
   "metadata": {},
   "outputs": [
    {
     "name": "stdout",
     "output_type": "stream",
     "text": [
      "False\n",
      "False\n",
      "False\n",
      "True\n",
      "False\n",
      "False\n",
      "True\n"
     ]
    }
   ],
   "source": [
    "print(m.isnan(56))\n",
    "print(m.isnan(-45.54))\n",
    "print(m.isnan(m.inf))\n",
    "print(m.isnan(float(\"nan\")))\n",
    "print(m.isnan(float(\"inf\")))\n",
    "print(m.isnan(float(\"-inf\")))\n",
    "print(m.isnan(m.nan))"
   ]
  },
  {
   "cell_type": "code",
   "execution_count": 23,
   "id": "87e2305c-25b2-45bc-8432-7b0bf727b0e7",
   "metadata": {},
   "outputs": [
    {
     "name": "stdout",
     "output_type": "stream",
     "text": [
      "3\n",
      "(1, 4, 2)\n",
      "[[[1 2]\n",
      "  [3 4]\n",
      "  [5 6]\n",
      "  [7 8]]]\n",
      "8\n"
     ]
    }
   ],
   "source": [
    "x = np.array([[[1,2],[3,4],[5,6],[7,8]]])\n",
    "print(x.ndim)\n",
    "print(x.shape)\n",
    "print(x)\n",
    "print(x.size)"
   ]
  },
  {
   "cell_type": "code",
   "execution_count": 20,
   "id": "bbf3d76a-0da2-4cf3-9d01-177edaaa83b4",
   "metadata": {},
   "outputs": [
    {
     "name": "stdout",
     "output_type": "stream",
     "text": [
      "[ 2  2  3  3 74]\n"
     ]
    }
   ],
   "source": [
    "a = np.array([2,3,5,6,78])\n",
    "b = np.arange(5)\n",
    "c = a-b\n",
    "print(c)"
   ]
  },
  {
   "cell_type": "code",
   "execution_count": 30,
   "id": "90c438fd-de66-46a3-be4f-5e27a7f15a5f",
   "metadata": {},
   "outputs": [
    {
     "name": "stdout",
     "output_type": "stream",
     "text": [
      "3.0\n",
      "15\n",
      "[ 0.84147098  0.90929743  0.14112001 -0.7568025  -0.95892427]\n"
     ]
    }
   ],
   "source": [
    "x = np.array([1,2,3,4,5])\n",
    "print(x.mean())\n",
    "print(x.sum())\n",
    "print(np.sin(x))"
   ]
  },
  {
   "cell_type": "code",
   "execution_count": null,
   "id": "77b6f8b0-15c2-48b6-83cd-50199a1cd232",
   "metadata": {},
   "outputs": [],
   "source": []
  }
 ],
 "metadata": {
  "kernelspec": {
   "display_name": "Python 3 (ipykernel)",
   "language": "python",
   "name": "python3"
  },
  "language_info": {
   "codemirror_mode": {
    "name": "ipython",
    "version": 3
   },
   "file_extension": ".py",
   "mimetype": "text/x-python",
   "name": "python",
   "nbconvert_exporter": "python",
   "pygments_lexer": "ipython3",
   "version": "3.12.2"
  }
 },
 "nbformat": 4,
 "nbformat_minor": 5
}

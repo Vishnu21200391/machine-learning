{
 "cells": [
  {
   "cell_type": "code",
   "execution_count": 1,
   "id": "44434a1b-52d3-47d4-b459-13b93f92d4d9",
   "metadata": {},
   "outputs": [],
   "source": [
    "import pandas as pd \n",
    "import numpy as np"
   ]
  },
  {
   "cell_type": "code",
   "execution_count": 2,
   "id": "ab3c2cc5-b1e5-46e4-9fe9-c7e244a46432",
   "metadata": {},
   "outputs": [],
   "source": [
    "df = pd.read_csv(\"Files/Football_dataset.csv\")"
   ]
  },
  {
   "cell_type": "code",
   "execution_count": 3,
   "id": "d1bdfa00-238c-4a59-b732-76cdf86b5601",
   "metadata": {},
   "outputs": [
    {
     "data": {
      "text/html": [
       "<div>\n",
       "<style scoped>\n",
       "    .dataframe tbody tr th:only-of-type {\n",
       "        vertical-align: middle;\n",
       "    }\n",
       "\n",
       "    .dataframe tbody tr th {\n",
       "        vertical-align: top;\n",
       "    }\n",
       "\n",
       "    .dataframe thead th {\n",
       "        text-align: right;\n",
       "    }\n",
       "</style>\n",
       "<table border=\"1\" class=\"dataframe\">\n",
       "  <thead>\n",
       "    <tr style=\"text-align: right;\">\n",
       "      <th></th>\n",
       "      <th>Team</th>\n",
       "      <th>Tournament</th>\n",
       "      <th>Goals Scored</th>\n",
       "      <th>Shots pg</th>\n",
       "      <th>Yellow Cards</th>\n",
       "      <th>Red Cards</th>\n",
       "      <th>Shooting Accuracy</th>\n",
       "      <th>AerialsWon</th>\n",
       "      <th>Rating</th>\n",
       "      <th>Discipline</th>\n",
       "      <th>Own Fouls</th>\n",
       "      <th>Opponent Fouls</th>\n",
       "    </tr>\n",
       "  </thead>\n",
       "  <tbody>\n",
       "    <tr>\n",
       "      <th>0</th>\n",
       "      <td>Manchester City</td>\n",
       "      <td>Premier League</td>\n",
       "      <td>83</td>\n",
       "      <td>15.8</td>\n",
       "      <td>46</td>\n",
       "      <td>2</td>\n",
       "      <td>89.4</td>\n",
       "      <td>12.8</td>\n",
       "      <td>7.01</td>\n",
       "      <td>48</td>\n",
       "      <td>1</td>\n",
       "      <td>1</td>\n",
       "    </tr>\n",
       "    <tr>\n",
       "      <th>1</th>\n",
       "      <td>Bayern Munich</td>\n",
       "      <td>Bundesliga</td>\n",
       "      <td>99</td>\n",
       "      <td>17.1</td>\n",
       "      <td>44</td>\n",
       "      <td>3</td>\n",
       "      <td>85.5</td>\n",
       "      <td>12.9</td>\n",
       "      <td>6.95</td>\n",
       "      <td>47</td>\n",
       "      <td>2</td>\n",
       "      <td>2</td>\n",
       "    </tr>\n",
       "    <tr>\n",
       "      <th>2</th>\n",
       "      <td>Paris Saint-Germain</td>\n",
       "      <td>Ligue 1</td>\n",
       "      <td>86</td>\n",
       "      <td>15.0</td>\n",
       "      <td>73</td>\n",
       "      <td>7</td>\n",
       "      <td>89.5</td>\n",
       "      <td>9.5</td>\n",
       "      <td>6.88</td>\n",
       "      <td>80</td>\n",
       "      <td>3</td>\n",
       "      <td>3</td>\n",
       "    </tr>\n",
       "    <tr>\n",
       "      <th>3</th>\n",
       "      <td>Barcelona</td>\n",
       "      <td>LaLiga</td>\n",
       "      <td>85</td>\n",
       "      <td>15.3</td>\n",
       "      <td>68</td>\n",
       "      <td>2</td>\n",
       "      <td>89.7</td>\n",
       "      <td>10.6</td>\n",
       "      <td>6.87</td>\n",
       "      <td>70</td>\n",
       "      <td>4</td>\n",
       "      <td>5</td>\n",
       "    </tr>\n",
       "    <tr>\n",
       "      <th>4</th>\n",
       "      <td>Real Madrid</td>\n",
       "      <td>LaLiga</td>\n",
       "      <td>67</td>\n",
       "      <td>14.4</td>\n",
       "      <td>57</td>\n",
       "      <td>2</td>\n",
       "      <td>87.7</td>\n",
       "      <td>11.8</td>\n",
       "      <td>6.86</td>\n",
       "      <td>59</td>\n",
       "      <td>5</td>\n",
       "      <td>6</td>\n",
       "    </tr>\n",
       "    <tr>\n",
       "      <th>5</th>\n",
       "      <td>Manchester United</td>\n",
       "      <td>Premier League</td>\n",
       "      <td>73</td>\n",
       "      <td>13.8</td>\n",
       "      <td>64</td>\n",
       "      <td>1</td>\n",
       "      <td>84.8</td>\n",
       "      <td>14.5</td>\n",
       "      <td>6.85</td>\n",
       "      <td>65</td>\n",
       "      <td>6</td>\n",
       "      <td>7</td>\n",
       "    </tr>\n",
       "    <tr>\n",
       "      <th>6</th>\n",
       "      <td>Juventus</td>\n",
       "      <td>Serie A</td>\n",
       "      <td>77</td>\n",
       "      <td>15.7</td>\n",
       "      <td>76</td>\n",
       "      <td>6</td>\n",
       "      <td>88.3</td>\n",
       "      <td>11.4</td>\n",
       "      <td>6.85</td>\n",
       "      <td>82</td>\n",
       "      <td>7</td>\n",
       "      <td>1</td>\n",
       "    </tr>\n",
       "    <tr>\n",
       "      <th>7</th>\n",
       "      <td>Aston Villa</td>\n",
       "      <td>Premier League</td>\n",
       "      <td>55</td>\n",
       "      <td>13.7</td>\n",
       "      <td>63</td>\n",
       "      <td>4</td>\n",
       "      <td>78.6</td>\n",
       "      <td>19.4</td>\n",
       "      <td>6.84</td>\n",
       "      <td>67</td>\n",
       "      <td>8</td>\n",
       "      <td>2</td>\n",
       "    </tr>\n",
       "    <tr>\n",
       "      <th>8</th>\n",
       "      <td>Borussia Dortmund</td>\n",
       "      <td>Bundesliga</td>\n",
       "      <td>75</td>\n",
       "      <td>14.6</td>\n",
       "      <td>43</td>\n",
       "      <td>1</td>\n",
       "      <td>85.5</td>\n",
       "      <td>12.8</td>\n",
       "      <td>6.84</td>\n",
       "      <td>44</td>\n",
       "      <td>1</td>\n",
       "      <td>3</td>\n",
       "    </tr>\n",
       "    <tr>\n",
       "      <th>9</th>\n",
       "      <td>Atletico Madrid</td>\n",
       "      <td>LaLiga</td>\n",
       "      <td>67</td>\n",
       "      <td>12.1</td>\n",
       "      <td>100</td>\n",
       "      <td>0</td>\n",
       "      <td>83.1</td>\n",
       "      <td>14.4</td>\n",
       "      <td>6.84</td>\n",
       "      <td>100</td>\n",
       "      <td>2</td>\n",
       "      <td>5</td>\n",
       "    </tr>\n",
       "  </tbody>\n",
       "</table>\n",
       "</div>"
      ],
      "text/plain": [
       "                  Team      Tournament  Goals Scored  Shots pg  Yellow Cards  \\\n",
       "0      Manchester City  Premier League            83      15.8            46   \n",
       "1        Bayern Munich      Bundesliga            99      17.1            44   \n",
       "2  Paris Saint-Germain         Ligue 1            86      15.0            73   \n",
       "3            Barcelona          LaLiga            85      15.3            68   \n",
       "4          Real Madrid          LaLiga            67      14.4            57   \n",
       "5    Manchester United  Premier League            73      13.8            64   \n",
       "6             Juventus         Serie A            77      15.7            76   \n",
       "7          Aston Villa  Premier League            55      13.7            63   \n",
       "8    Borussia Dortmund      Bundesliga            75      14.6            43   \n",
       "9      Atletico Madrid          LaLiga            67      12.1           100   \n",
       "\n",
       "   Red Cards  Shooting Accuracy  AerialsWon  Rating  Discipline  Own Fouls  \\\n",
       "0          2               89.4        12.8    7.01          48          1   \n",
       "1          3               85.5        12.9    6.95          47          2   \n",
       "2          7               89.5         9.5    6.88          80          3   \n",
       "3          2               89.7        10.6    6.87          70          4   \n",
       "4          2               87.7        11.8    6.86          59          5   \n",
       "5          1               84.8        14.5    6.85          65          6   \n",
       "6          6               88.3        11.4    6.85          82          7   \n",
       "7          4               78.6        19.4    6.84          67          8   \n",
       "8          1               85.5        12.8    6.84          44          1   \n",
       "9          0               83.1        14.4    6.84         100          2   \n",
       "\n",
       "   Opponent Fouls  \n",
       "0               1  \n",
       "1               2  \n",
       "2               3  \n",
       "3               5  \n",
       "4               6  \n",
       "5               7  \n",
       "6               1  \n",
       "7               2  \n",
       "8               3  \n",
       "9               5  "
      ]
     },
     "execution_count": 3,
     "metadata": {},
     "output_type": "execute_result"
    }
   ],
   "source": [
    "df.head(10)"
   ]
  },
  {
   "cell_type": "code",
   "execution_count": 4,
   "id": "82a9487c-5bd1-4559-ae4e-58874d4547a8",
   "metadata": {},
   "outputs": [
    {
     "data": {
      "text/plain": [
       "Team\n",
       "Manchester City        1\n",
       "Tottenham              1\n",
       "Monaco                 1\n",
       "Eintracht Frankfurt    1\n",
       "Bayer Leverkusen       1\n",
       "Everton                1\n",
       "West Ham               1\n",
       "Leeds                  1\n",
       "RB Leipzig             1\n",
       "Lyon                   1\n",
       "Inter                  1\n",
       "Wolfsburg              1\n",
       "Leicester              1\n",
       "Napoli                 1\n",
       "Lille                  1\n",
       "Bayern Munich          1\n",
       "AC Milan               1\n",
       "Liverpool              1\n",
       "Chelsea                1\n",
       "Atalanta               1\n",
       "Atletico Madrid        1\n",
       "Borussia Dortmund      1\n",
       "Aston Villa            1\n",
       "Juventus               1\n",
       "Manchester United      1\n",
       "Real Madrid            1\n",
       "Barcelona              1\n",
       "Paris Saint-Germain    1\n",
       "Roma                   1\n",
       "Name: count, dtype: int64"
      ]
     },
     "execution_count": 4,
     "metadata": {},
     "output_type": "execute_result"
    }
   ],
   "source": [
    "df['Team'].value_counts()"
   ]
  },
  {
   "cell_type": "code",
   "execution_count": 5,
   "id": "60013624-3fbe-4c78-8aef-e924cf0889b4",
   "metadata": {},
   "outputs": [
    {
     "data": {
      "text/plain": [
       "29"
      ]
     },
     "execution_count": 5,
     "metadata": {},
     "output_type": "execute_result"
    }
   ],
   "source": [
    "df['Team'].nunique()"
   ]
  },
  {
   "cell_type": "code",
   "execution_count": 6,
   "id": "d1263b7e-cc3b-4342-8e2d-3cd3c4e5e21b",
   "metadata": {},
   "outputs": [
    {
     "data": {
      "text/plain": [
       "Team                 0\n",
       "Tournament           0\n",
       "Goals Scored         0\n",
       "Shots pg             0\n",
       "Yellow Cards         0\n",
       "Red Cards            0\n",
       "Shooting Accuracy    0\n",
       "AerialsWon           0\n",
       "Rating               0\n",
       "Discipline           0\n",
       "Own Fouls            0\n",
       "Opponent Fouls       0\n",
       "dtype: int64"
      ]
     },
     "execution_count": 6,
     "metadata": {},
     "output_type": "execute_result"
    }
   ],
   "source": [
    "df.isnull().sum()"
   ]
  },
  {
   "cell_type": "code",
   "execution_count": 7,
   "id": "84c94b61-508d-461c-90b0-5bfbbfba6191",
   "metadata": {},
   "outputs": [
    {
     "name": "stdout",
     "output_type": "stream",
     "text": [
      "<class 'pandas.core.frame.DataFrame'>\n",
      "RangeIndex: 29 entries, 0 to 28\n",
      "Data columns (total 12 columns):\n",
      " #   Column             Non-Null Count  Dtype  \n",
      "---  ------             --------------  -----  \n",
      " 0   Team               29 non-null     object \n",
      " 1   Tournament         29 non-null     object \n",
      " 2   Goals Scored       29 non-null     int64  \n",
      " 3   Shots pg           29 non-null     float64\n",
      " 4   Yellow Cards       29 non-null     int64  \n",
      " 5   Red Cards          29 non-null     int64  \n",
      " 6   Shooting Accuracy  29 non-null     float64\n",
      " 7   AerialsWon         29 non-null     float64\n",
      " 8   Rating             29 non-null     float64\n",
      " 9   Discipline         29 non-null     int64  \n",
      " 10  Own Fouls          29 non-null     int64  \n",
      " 11  Opponent Fouls     29 non-null     int64  \n",
      "dtypes: float64(4), int64(6), object(2)\n",
      "memory usage: 2.8+ KB\n"
     ]
    }
   ],
   "source": [
    "df.info()"
   ]
  },
  {
   "cell_type": "code",
   "execution_count": 8,
   "id": "ab144b2a-b2c7-4072-a1a4-40e6b5f86961",
   "metadata": {},
   "outputs": [
    {
     "data": {
      "text/plain": [
       "Team\n",
       "Atletico Madrid    100\n",
       "Roma                87\n",
       "Name: Discipline, dtype: int64"
      ]
     },
     "execution_count": 8,
     "metadata": {},
     "output_type": "execute_result"
    }
   ],
   "source": [
    "top_team = df.groupby('Team')['Discipline'].sum().nlargest(2)\n",
    "top_team"
   ]
  },
  {
   "cell_type": "code",
   "execution_count": 9,
   "id": "8ca78849-08aa-456d-ad0a-94bbaec60390",
   "metadata": {},
   "outputs": [
    {
     "data": {
      "text/plain": [
       "Team\n",
       "Liverpool            40\n",
       "Borussia Dortmund    44\n",
       "Name: Discipline, dtype: int64"
      ]
     },
     "execution_count": 9,
     "metadata": {},
     "output_type": "execute_result"
    }
   ],
   "source": [
    "low_team = df.groupby('Team')['Discipline'].sum().nsmallest(2)\n",
    "low_team"
   ]
  },
  {
   "cell_type": "code",
   "execution_count": 10,
   "id": "7132ce56-b2ec-4823-8dfa-4fefe947c81c",
   "metadata": {},
   "outputs": [
    {
     "data": {
      "text/plain": [
       "Team\n",
       "AC Milan                80.0\n",
       "Aston Villa             63.0\n",
       "Atalanta                66.0\n",
       "Atletico Madrid        100.0\n",
       "Barcelona               68.0\n",
       "Bayer Leverkusen        58.0\n",
       "Bayern Munich           44.0\n",
       "Borussia Dortmund       43.0\n",
       "Chelsea                 49.0\n",
       "Eintracht Frankfurt     80.0\n",
       "Everton                 59.0\n",
       "Inter                   59.0\n",
       "Juventus                76.0\n",
       "Leeds                   61.0\n",
       "Leicester               61.0\n",
       "Lille                   67.0\n",
       "Liverpool               40.0\n",
       "Lyon                    60.0\n",
       "Manchester City         46.0\n",
       "Manchester United       64.0\n",
       "Monaco                  74.0\n",
       "Napoli                  71.0\n",
       "Paris Saint-Germain     73.0\n",
       "RB Leipzig              57.0\n",
       "Real Madrid             57.0\n",
       "Roma                    84.0\n",
       "Tottenham               53.0\n",
       "West Ham                48.0\n",
       "Wolfsburg               56.0\n",
       "Name: Yellow Cards, dtype: float64"
      ]
     },
     "execution_count": 10,
     "metadata": {},
     "output_type": "execute_result"
    }
   ],
   "source": [
    "avg_ylw = df.groupby('Team')['Yellow Cards'].mean()\n",
    "avg_ylw"
   ]
  },
  {
   "cell_type": "code",
   "execution_count": 11,
   "id": "1290318e-9188-4c85-b7cd-ef7cfa8f6c3c",
   "metadata": {},
   "outputs": [
    {
     "data": {
      "text/plain": [
       "62.6551724137931"
      ]
     },
     "execution_count": 11,
     "metadata": {},
     "output_type": "execute_result"
    }
   ],
   "source": [
    "df['Yellow Cards'].mean()"
   ]
  },
  {
   "cell_type": "code",
   "execution_count": 12,
   "id": "cb30ea77-44d1-4908-bcc5-a5d96021ee38",
   "metadata": {},
   "outputs": [
    {
     "data": {
      "text/plain": [
       "Team\n",
       "AC Milan                4.0\n",
       "Aston Villa             4.0\n",
       "Atalanta                3.0\n",
       "Atletico Madrid         0.0\n",
       "Barcelona               2.0\n",
       "Bayer Leverkusen        0.0\n",
       "Bayern Munich           3.0\n",
       "Borussia Dortmund       1.0\n",
       "Chelsea                 3.0\n",
       "Eintracht Frankfurt     1.0\n",
       "Everton                 2.0\n",
       "Inter                   2.0\n",
       "Juventus                6.0\n",
       "Leeds                   1.0\n",
       "Leicester               0.0\n",
       "Lille                   2.0\n",
       "Liverpool               0.0\n",
       "Lyon                   10.0\n",
       "Manchester City         2.0\n",
       "Manchester United       1.0\n",
       "Monaco                  7.0\n",
       "Napoli                  3.0\n",
       "Paris Saint-Germain     7.0\n",
       "RB Leipzig              0.0\n",
       "Real Madrid             2.0\n",
       "Roma                    3.0\n",
       "Tottenham               2.0\n",
       "West Ham                3.0\n",
       "Wolfsburg               3.0\n",
       "Name: Red Cards, dtype: float64"
      ]
     },
     "execution_count": 12,
     "metadata": {},
     "output_type": "execute_result"
    }
   ],
   "source": [
    "avg_red = df.groupby('Team')['Red Cards'].mean()\n",
    "avg_red"
   ]
  },
  {
   "cell_type": "code",
   "execution_count": 13,
   "id": "e43f3bc8-a891-4af5-a56e-4e1c178cbe13",
   "metadata": {},
   "outputs": [
    {
     "name": "stdout",
     "output_type": "stream",
     "text": [
      "29\n",
      "              Team  Goals Scored\n",
      "0  Manchester City            83\n",
      "1    Bayern Munich            99\n"
     ]
    }
   ],
   "source": [
    "high_scoring_teams = df[df['Goals Scored'] > 5]\n",
    "\n",
    "unique_teams_count = high_scoring_teams['Team'].nunique()\n",
    "\n",
    "print(unique_teams_count)\n",
    "\n",
    "\n",
    "team_goals_subset = high_scoring_teams[['Team', 'Goals Scored']]\n",
    "\n",
    "print(team_goals_subset.head(2))"
   ]
  },
  {
   "cell_type": "code",
   "execution_count": 14,
   "id": "da219966-d7f4-4c6c-b7d8-858f0bb485f8",
   "metadata": {},
   "outputs": [
    {
     "data": {
      "text/plain": [
       "Team                 Barcelona\n",
       "Shooting Accuracy         89.7\n",
       "Name: 3, dtype: object"
      ]
     },
     "execution_count": 14,
     "metadata": {},
     "output_type": "execute_result"
    }
   ],
   "source": [
    "sht_acry = df.loc[df['Shooting Accuracy'].idxmax()]\n",
    "sht_acry[['Team', 'Shooting Accuracy']]"
   ]
  },
  {
   "cell_type": "code",
   "execution_count": 20,
   "id": "7afc0e68-b352-43bb-9d8b-c9ea17276c11",
   "metadata": {},
   "outputs": [
    {
     "name": "stdout",
     "output_type": "stream",
     "text": [
      "['Juventus' 'Aston Villa' 'Liverpool' 'AC Milan' 'Lille' 'Tottenham'\n",
      " 'Wolfsburg' 'Inter' 'Lyon' 'RB Leipzig' 'Leeds' 'West Ham']\n",
      "\n",
      "\n",
      "           Team  Own Fouls  Opponent Fouls\n",
      "6      Juventus          7               1\n",
      "7   Aston Villa          8               2\n",
      "12    Liverpool          5               1\n",
      "13     AC Milan          6               2\n",
      "14        Lille          7               3\n",
      "15    Tottenham          8               5\n",
      "18    Wolfsburg          3               1\n",
      "19        Inter          4               2\n",
      "20         Lyon          5               3\n",
      "21   RB Leipzig          6               5\n",
      "22        Leeds          7               6\n",
      "23     West Ham          8               7\n"
     ]
    }
   ],
   "source": [
    "team_more_foul = df[df['Own Fouls']>df['Opponent Fouls']]\n",
    "num_teams_foul = team_more_foul['Team'].unique()\n",
    "# print(team_more_foul)\n",
    "print(num_teams_foul)\n",
    "print(\"\\n\")\n",
    "\n",
    "print(team_more_foul[['Team','Own Fouls', 'Opponent Fouls']])"
   ]
  },
  {
   "cell_type": "code",
   "execution_count": null,
   "id": "9c507ba1-708e-4673-a034-79aa506b8f0e",
   "metadata": {},
   "outputs": [],
   "source": [
    " "
   ]
  }
 ],
 "metadata": {
  "kernelspec": {
   "display_name": "Python 3 (ipykernel)",
   "language": "python",
   "name": "python3"
  },
  "language_info": {
   "codemirror_mode": {
    "name": "ipython",
    "version": 3
   },
   "file_extension": ".py",
   "mimetype": "text/x-python",
   "name": "python",
   "nbconvert_exporter": "python",
   "pygments_lexer": "ipython3",
   "version": "3.12.2"
  }
 },
 "nbformat": 4,
 "nbformat_minor": 5
}

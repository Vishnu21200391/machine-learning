{
 "cells": [
  {
   "cell_type": "code",
   "execution_count": 1,
   "id": "05917093-7143-4f02-b430-61e3876beb5e",
   "metadata": {},
   "outputs": [],
   "source": [
    "import numpy as np\n",
    "import pandas as pd\n",
    "import matplotlib.pyplot as plt\n",
    "import warnings\n",
    "warnings.filterwarnings('ignore')"
   ]
  },
  {
   "cell_type": "code",
   "execution_count": 2,
   "id": "21dd81c8-5e07-4966-b795-3c9fe4a2c306",
   "metadata": {},
   "outputs": [
    {
     "data": {
      "text/plain": [
       "59.333333333333336"
      ]
     },
     "execution_count": 2,
     "metadata": {},
     "output_type": "execute_result"
    }
   ],
   "source": [
    "data = [10,12,14,11,13,100,12,15,14,11,200,300]\n",
    "mean = np.mean(data)\n",
    "mean"
   ]
  },
  {
   "cell_type": "code",
   "execution_count": 3,
   "id": "2006e61e-e17f-40a0-8dc3-5ca97436b9e3",
   "metadata": {},
   "outputs": [],
   "source": [
    "std = np.std(mean)"
   ]
  },
  {
   "cell_type": "code",
   "execution_count": 4,
   "id": "8c31156b-04fa-49f5-bbb8-bac0764a542b",
   "metadata": {},
   "outputs": [
    {
     "data": {
      "text/plain": [
       "0.0"
      ]
     },
     "execution_count": 4,
     "metadata": {},
     "output_type": "execute_result"
    }
   ],
   "source": [
    "std"
   ]
  },
  {
   "cell_type": "code",
   "execution_count": 5,
   "id": "d2537847-aa6f-447d-8f9f-f6c9e14b42fa",
   "metadata": {},
   "outputs": [
    {
     "data": {
      "text/plain": [
       "[100, 200, 300]"
      ]
     },
     "execution_count": 5,
     "metadata": {},
     "output_type": "execute_result"
    }
   ],
   "source": [
    "threshold = 3\n",
    "outlier = [x for x in data if(x - mean)/ std > threshold]\n",
    "outlier"
   ]
  },
  {
   "cell_type": "code",
   "execution_count": 6,
   "id": "58c92b7a-1e12-40c3-b5a3-e39babd118d2",
   "metadata": {},
   "outputs": [
    {
     "name": "stdout",
     "output_type": "stream",
     "text": [
      "Original Data: [10, 12, 14, 11, 13, 100, 12, 15, 14, 11, 200, 300]\n",
      "Outliers: [100, 200, 300]\n",
      "Filtered Data: [10, 12, 14, 11, 13, 12, 15, 14, 11]\n"
     ]
    }
   ],
   "source": [
    "filtered = [x for x in data if x not in outlier]\n",
    "\n",
    "print(\"Original Data:\", data)\n",
    "print(\"Outliers:\", outlier)\n",
    "print(\"Filtered Data:\", filtered)"
   ]
  },
  {
   "cell_type": "code",
   "execution_count": 8,
   "id": "d162e9e4-e6f7-4101-a980-f721b3463b4b",
   "metadata": {},
   "outputs": [
    {
     "name": "stdout",
     "output_type": "stream",
     "text": [
      "Outliers:\n",
      "     Sales\n",
      "5     500\n",
      "13    600\n",
      "\n",
      "Cleaned Data:\n",
      "     Sales\n",
      "0     100\n",
      "1     120\n",
      "2     130\n",
      "3     115\n",
      "4     105\n",
      "6     110\n",
      "7      95\n",
      "8      98\n",
      "9     102\n",
      "10    108\n",
      "11    107\n",
      "12    125\n"
     ]
    },
    {
     "data": {
      "image/png": "[encoded data removed]",
      "text/plain": [
       "<Figure size 640x480 with 1 Axes>"
      ]
     },
     "metadata": {},
     "output_type": "display_data"
    }
   ],
   "source": [
    "data = {'Sales': [100, 120, 130, 115, 105, 500, 110, 95, 98, 102, 108, 107, 125, 600]}\n",
    "df = pd.DataFrame(data)\n",
    "\n",
    "Q1 = df['Sales'].quantile(0.25)\n",
    "Q3 = df['Sales'].quantile(0.75)\n",
    "IQR = Q3 - Q1  \n",
    "\n",
    "lower_bound = Q1 - 1.5 * IQR\n",
    "upper_bound = Q3 + 1.5 * IQR\n",
    "\n",
    "outliers = df[(df['Sales'] < lower_bound) | (df['Sales'] > upper_bound)]\n",
    "print(\"Outliers:\\n\", outliers)\n",
    "\n",
    "df_cleaned = df[(df['Sales'] >= lower_bound) & (df['Sales'] <= upper_bound)]\n",
    "print(\"\\nCleaned Data:\\n\", df_cleaned)\n",
    "\n",
    "plt.boxplot(df)\n",
    "plt.show()"
   ]
  },
  {
   "cell_type": "code",
   "execution_count": 9,
   "id": "b11c04e1-c3d6-4653-b1fd-029d4d22d14a",
   "metadata": {},
   "outputs": [
    {
     "data": {
      "text/html": [
       "<div>\n",
       "<style scoped>\n",
       "    .dataframe tbody tr th:only-of-type {\n",
       "        vertical-align: middle;\n",
       "    }\n",
       "\n",
       "    .dataframe tbody tr th {\n",
       "        vertical-align: top;\n",
       "    }\n",
       "\n",
       "    .dataframe thead th {\n",
       "        text-align: right;\n",
       "    }\n",
       "</style>\n",
       "<table border=\"1\" class=\"dataframe\">\n",
       "  <thead>\n",
       "    <tr style=\"text-align: right;\">\n",
       "      <th></th>\n",
       "      <th>Sales</th>\n",
       "    </tr>\n",
       "  </thead>\n",
       "  <tbody>\n",
       "    <tr>\n",
       "      <th>count</th>\n",
       "      <td>14.000000</td>\n",
       "    </tr>\n",
       "    <tr>\n",
       "      <th>mean</th>\n",
       "      <td>172.500000</td>\n",
       "    </tr>\n",
       "    <tr>\n",
       "      <th>std</th>\n",
       "      <td>161.443846</td>\n",
       "    </tr>\n",
       "    <tr>\n",
       "      <th>min</th>\n",
       "      <td>95.000000</td>\n",
       "    </tr>\n",
       "    <tr>\n",
       "      <th>25%</th>\n",
       "      <td>102.750000</td>\n",
       "    </tr>\n",
       "    <tr>\n",
       "      <th>50%</th>\n",
       "      <td>109.000000</td>\n",
       "    </tr>\n",
       "    <tr>\n",
       "      <th>75%</th>\n",
       "      <td>123.750000</td>\n",
       "    </tr>\n",
       "    <tr>\n",
       "      <th>max</th>\n",
       "      <td>600.000000</td>\n",
       "    </tr>\n",
       "  </tbody>\n",
       "</table>\n",
       "</div>"
      ],
      "text/plain": [
       "            Sales\n",
       "count   14.000000\n",
       "mean   172.500000\n",
       "std    161.443846\n",
       "min     95.000000\n",
       "25%    102.750000\n",
       "50%    109.000000\n",
       "75%    123.750000\n",
       "max    600.000000"
      ]
     },
     "execution_count": 9,
     "metadata": {},
     "output_type": "execute_result"
    }
   ],
   "source": [
    "df.describe()"
   ]
  },
  {
   "cell_type": "code",
   "execution_count": null,
   "id": "80c96ce8-e120-4fe9-8ccb-65ec5bbd594f",
   "metadata": {},
   "outputs": [],
   "source": []
  }
 ],
 "metadata": {
  "kernelspec": {
   "display_name": "Python 3 (ipykernel)",
   "language": "python",
   "name": "python3"
  },
  "language_info": {
   "codemirror_mode": {
    "name": "ipython",
    "version": 3
   },
   "file_extension": ".py",
   "mimetype": "text/x-python",
   "name": "python",
   "nbconvert_exporter": "python",
   "pygments_lexer": "ipython3",
   "version": "3.12.2"
  }
 },
 "nbformat": 4,
 "nbformat_minor": 5
}

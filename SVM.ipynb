{
 "cells": [
  {
   "cell_type": "code",
   "execution_count": 14,
   "id": "b9db89f1-43a8-41ae-9375-7eb162d90dea",
   "metadata": {},
   "outputs": [
    {
     "name": "stdout",
     "output_type": "stream",
     "text": [
      "Model Accuracy:50.000000%\n",
      "Spam\n"
     ]
    }
   ],
   "source": [
    "import pandas as pd\n",
    "import numpy as np\n",
    "from sklearn.model_selection import train_test_split\n",
    "from sklearn.feature_extraction.text import CountVectorizer\n",
    "from sklearn.svm import SVC\n",
    "from sklearn.metrics import accuracy_score\n",
    "\n",
    "data={\n",
    "    \"email\":[\"win a free lottery now\",\n",
    "            \"important meeting at 5 PM\",\n",
    "            \"congratulation! you won a prize\",\n",
    "            \"please review the attached report\",\n",
    "            \"claim your free git today\",\n",
    "            \"your invoice is attached\"],\n",
    "    \"label\":[1,0,1,0,1,0]\n",
    "}\n",
    "\n",
    "df=pd.DataFrame(data)\n",
    "vectorizer = CountVectorizer()\n",
    "x=vectorizer.fit_transform(df[\"email\"])\n",
    "y=df[\"label\"]\n",
    "\n",
    "x_train,x_test,y_train,y_test=train_test_split(x,y,test_size=0.2,random_state=42)\n",
    "svm_model = SVC(kernel=\"linear\")\n",
    "svm_model.fit(x_train,y_train)\n",
    "\n",
    "y_pred=svm_model.predict(x_test)\n",
    "accuracy=accuracy_score(y_test,y_pred)\n",
    "print(f\"Model Accuracy:{accuracy*100:2f}%\")\n",
    "\n",
    "new_email=[\"hi, how are you\"]\n",
    "new_email_vectorized=vectorizer.transform(new_email)\n",
    "prediction=svm_model.predict(new_email_vectorized)\n",
    "print(\"Spam\"if prediction[0]==1 else \"Not Spam\")"
   ]
  },
  {
   "cell_type": "code",
   "execution_count": null,
   "id": "9559d3dc-8175-4e4f-a83f-03d6587195cf",
   "metadata": {},
   "outputs": [],
   "source": []
  }
 ],
 "metadata": {
  "kernelspec": {
   "display_name": "Python 3 (ipykernel)",
   "language": "python",
   "name": "python3"
  },
  "language_info": {
   "codemirror_mode": {
    "name": "ipython",
    "version": 3
   },
   "file_extension": ".py",
   "mimetype": "text/x-python",
   "name": "python",
   "nbconvert_exporter": "python",
   "pygments_lexer": "ipython3",
   "version": "3.13.2"
  }
 },
 "nbformat": 4,
 "nbformat_minor": 5
}

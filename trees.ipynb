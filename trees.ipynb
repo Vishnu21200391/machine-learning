{
 "cells": [
  {
   "cell_type": "code",
   "execution_count": 8,
   "id": "95e4dee2-fdcc-47f5-9419-2e8e7ed2b985",
   "metadata": {},
   "outputs": [
    {
     "name": "stdout",
     "output_type": "stream",
     "text": [
      "Accuracy: 100.00%\n"
     ]
    }
   ],
   "source": [
    "# Soution: Using Random Forest\n",
    "import pandas as pd\n",
    "from sklearn.model_selection import train_test_split\n",
    "from sklearn.ensemble import RandomForestClassifier\n",
    "from sklearn.metrics import accuracy_score\n",
    "data = {'Age': [45, 50, 35, 60, 40, 55, 25, 48, 52, 30],\n",
    "'Glucose': [180, 155, 100, 200, 130, 190, 85, 170, 160, 95],\n",
    "'BMI': [28.5, 30.1, 24.3, 32.0, 27.5, 31.4, 22.1, 29.7, 30.5, 23.4],\n",
    "'BloodPressure': [80, 75, 68, 85, 70, 78, 65, 82, 76, 67],\n",
    "'Diabetes': [1, 1, 0, 1, 0, 1, 0, 1, 1, 0]} # 1 = Diabetes, 0 = No Diabetes\n",
    "df = pd.DataFrame(data)\n",
    "X = df.drop(columns=['Diabetes']) # Features\n",
    "y = df['Diabetes'] # Target variable\n",
    "X_train, X_test, y_train, y_test = train_test_split(X, y, test_size=0.2, random_state=42)\n",
    "model = RandomForestClassifier(n_estimators=100, random_state=42)\n",
    "model.fit(X_train, y_train)\n",
    "y_pred = model.predict(X_test)\n",
    "accuracy = accuracy_score(y_test, y_pred)\n",
    "print(f'Accuracy: {accuracy * 100:.2f}%')"
   ]
  },
  {
   "cell_type": "code",
   "execution_count": 7,
   "id": "d77f231b-9c30-4d69-a7e2-463b264f41c1",
   "metadata": {},
   "outputs": [],
   "source": [
    "import pandas as pd\n",
    "from sklearn.model_selection import train_test_split\n",
    "from sklearn.ensemble import RandomForestClassifier\n",
    "from sklearn.metrics import accuracy_score\n",
    "data = {'Age':[]}"
   ]
  },
  {
   "cell_type": "code",
   "execution_count": 3,
   "id": "0a410351-2c22-4535-9cd4-0a91e5697623",
   "metadata": {},
   "outputs": [
    {
     "name": "stdout",
     "output_type": "stream",
     "text": [
      "Accuracy: 100.00%\n"
     ]
    }
   ],
   "source": [
    "# Solution Using K-Nearest Neighbors (KNN)\n",
    "import pandas as pd\n",
    "from sklearn.model_selection import train_test_split\n",
    "from sklearn.preprocessing import StandardScaler\n",
    "from sklearn.neighbors import KNeighborsClassifier\n",
    "from sklearn.metrics import accuracy_score\n",
    "data = {'Age': [45, 50, 35, 60, 40, 55, 25, 48, 52, 30],\n",
    "'Glucose': [180, 155, 100, 200, 130, 190, 85, 170, 160, 95],\n",
    "'BMI': [28.5, 30.1, 24.3, 32.0, 27.5, 31.4, 22.1, 29.7, 30.5, 23.4],\n",
    "'BloodPressure': [80, 75, 68, 85, 70, 78, 65, 82, 76, 67],\n",
    "'Diabetes': [1, 1, 0, 1, 0, 1, 0, 1, 1, 0]} # 1 = Diabetes, 0 = No Diabetes\n",
    "df = pd.DataFrame(data)\n",
    "X = df.drop(columns=['Diabetes']) # Features\n",
    "y = df['Diabetes'] # Target variable\n",
    "scaler = StandardScaler()\n",
    "X_scaled = scaler.fit_transform(X) # Normalize feature values\n",
    "X_train, X_test, y_train, y_test = train_te54sst_split(X_scaled, y, test_size=0.2,\n",
    "random_state=42)\n",
    "model = KNeighborsClassifier(n_neighbors=3)\n",
    "model.fit(X_train, y_train)\n",
    "y_pred = model.predict(X_test)\n",
    "accuracy = accuracy_score(y_test, y_pred)\n",
    "print(f'Accuracy: {accuracy * 100:.2f}%')"
   ]
  },
  {
   "cell_type": "code",
   "execution_count": 4,
   "id": "23801812-6380-4cf1-9a58-49cc4c7582f0",
   "metadata": {},
   "outputs": [
    {
     "name": "stdout",
     "output_type": "stream",
     "text": [
      "Accuracy: 100.00%\n"
     ]
    }
   ],
   "source": [
    "# Solution Using Support Vector Machine (SVM)\n",
    "import pandas as pd\n",
    "from sklearn.model_selection import train_test_split\n",
    "from sklearn.preprocessing import StandardScaler\n",
    "from sklearn.svm import SVC\n",
    "from sklearn.metrics import accuracy_score\n",
    "data = {'Age': [45, 50, 35, 60, 40, 55, 25, 48, 52, 30],\n",
    "'Glucose': [180, 155, 100, 200, 130, 190, 85, 170, 160, 95],\n",
    "'BMI': [28.5, 30.1, 24.3, 32.0, 27.5, 31.4, 22.1, 29.7, 30.5, 23.4],\n",
    "'BloodPressure': [80, 75, 68, 85, 70, 78, 65, 82, 76, 67],\n",
    "'Diabetes': [1, 1, 0, 1, 0, 1, 0, 1, 1, 0]} # 1 = Diabetes, 0 = No Diabetes\n",
    "df = pd.DataFrame(data)\n",
    "X = df.drop(columns=['Diabetes']) # Features\n",
    "y = df['Diabetes'] # Target variable\n",
    "scaler = StandardScaler()\n",
    "X_scaled = scaler.fit_transform(X) # Normalize feature values\n",
    "X_train, X_test, y_train, y_test = train_test_split(X_scaled, y, test_size=0.2,\n",
    "random_state=42)\n",
    "model = SVC(kernel='rbf', random_state=42)\n",
    "model.fit(X_train, y_train)\n",
    "y_pred = model.predict(X_test)\n",
    "accuracy = accuracy_score(y_test, y_pred)\n",
    "print(f'Accuracy: {accuracy * 100:.2f}%')"
   ]
  },
  {
   "cell_type": "code",
   "execution_count": 10,
   "id": "7458a0c7-bd6c-40d5-89f4-d6508e2ca111",
   "metadata": {},
   "outputs": [
    {
     "name": "stdout",
     "output_type": "stream",
     "text": [
      "Accuracy: 50.00%\n"
     ]
    }
   ],
   "source": [
    "import pandas as pd\n",
    "from sklearn.model_selection import train_test_split\n",
    "from sklearn.tree import DecisionTreeClassifier\n",
    "from sklearn.metrics import accuracy_score\n",
    "data = {'Age': [45, 50, 35, 60, 40, 55, 25, 48],\n",
    "'Glucose': [180, 155, 100, 200, 130, 190, 85, 170],\n",
    "'BMI': [28.5, 30.1, 24.3, 32.0, 27.5, 31.4, 22.1, 29.7],\n",
    "'BloodPressure': [80, 75, 68, 85, 70, 78, 65, 82],\n",
    "'Diabetes': [1, 1, 0, 1, 0, 1, 0, 1]} # 1 = Diabetes, 0 = No Diabetes\n",
    "df = pd.DataFrame(data)\n",
    "X = df.drop(columns=['Diabetes']) # Features\n",
    "y = df['Diabetes'] # Target variable\n",
    "X_train, X_test, y_train, y_test = train_test_split(X, y, test_size=0.2, random_state=42)\n",
    "model = DecisionTreeClassifier()\n",
    "model.fit(X_train, y_train)\n",
    "y_pred = model.predict(X_test)\n",
    "accuracy = accuracy_score(y_test, y_pred)\n",
    "print(f'Accuracy: {accuracy * 100:.2f}%')"
   ]
  }
 ],
 "metadata": {
  "kernelspec": {
   "display_name": "Python 3 (ipykernel)",
   "language": "python",
   "name": "python3"
  },
  "language_info": {
   "codemirror_mode": {
    "name": "ipython",
    "version": 3
   },
   "file_extension": ".py",
   "mimetype": "text/x-python",
   "name": "python",
   "nbconvert_exporter": "python",
   "pygments_lexer": "ipython3",
   "version": "3.13.2"
  }
 },
 "nbformat": 4,
 "nbformat_minor": 5
}
